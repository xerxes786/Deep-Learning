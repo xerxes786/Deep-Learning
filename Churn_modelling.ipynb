{
  "nbformat": 4,
  "nbformat_minor": 0,
  "metadata": {
    "colab": {
      "name": "Churn_modelling",
      "provenance": [],
      "collapsed_sections": []
    },
    "kernelspec": {
      "name": "python3",
      "display_name": "Python 3"
    },
    "language_info": {
      "name": "python"
    }
  },
  "cells": [
    {
      "cell_type": "code",
      "execution_count": 2,
      "metadata": {
        "id": "k4b_3sIunWKf"
      },
      "outputs": [],
      "source": [
        "import numpy as np\n",
        "import matplotlib.pyplot as plt\n",
        "import pandas as pd"
      ]
    },
    {
      "cell_type": "code",
      "source": [
        "dataset = pd.read_csv('/content/Churn_Modelling.csv')\n",
        "X = dataset.iloc[:, 3:13]\n",
        "y = dataset.iloc[:, 13]"
      ],
      "metadata": {
        "id": "09WQgQd0n8Ou"
      },
      "execution_count": 3,
      "outputs": []
    },
    {
      "cell_type": "code",
      "source": [
        "geography=pd.get_dummies(X[\"Geography\"],drop_first=True)\n",
        "gender=pd.get_dummies(X['Gender'],drop_first=True)"
      ],
      "metadata": {
        "id": "C0Xg7XkgoKxB"
      },
      "execution_count": 4,
      "outputs": []
    },
    {
      "cell_type": "code",
      "source": [
        "X=pd.concat([X,geography,gender],axis=1)\n",
        "X=X.drop(['Geography','Gender'],axis=1)"
      ],
      "metadata": {
        "id": "cw3jjzHJoNs-"
      },
      "execution_count": 5,
      "outputs": []
    },
    {
      "cell_type": "code",
      "source": [
        "from sklearn.model_selection import train_test_split\n",
        "X_train, X_test, y_train, y_test = train_test_split(X, y, test_size = 0.2, random_state = 0)"
      ],
      "metadata": {
        "id": "ChgJbv1DoTtu"
      },
      "execution_count": 6,
      "outputs": []
    },
    {
      "cell_type": "code",
      "source": [
        "from sklearn.preprocessing import StandardScaler\n",
        "sc = StandardScaler()\n",
        "X_train = sc.fit_transform(X_train)\n",
        "X_test = sc.transform(X_test)"
      ],
      "metadata": {
        "id": "P-n9yjkSoUQp"
      },
      "execution_count": 7,
      "outputs": []
    },
    {
      "cell_type": "code",
      "source": [
        "import keras\n",
        "from keras.models import Sequential\n",
        "from keras.layers import Dense\n",
        "from keras.layers import Dropout"
      ],
      "metadata": {
        "id": "VFFbDf_zoXNH"
      },
      "execution_count": 8,
      "outputs": []
    },
    {
      "cell_type": "code",
      "source": [
        "classifier = Sequential()\n",
        "\n",
        "classifier.add(Dense(units = 6, kernel_initializer = 'he_uniform', activation='relu',input_dim = 11))\n",
        "classifier.add(Dense(units = 6, kernel_initializer = 'he_uniform', activation='relu'))\n",
        "classifier.add(Dense(units = 1, kernel_initializer = 'glorot_uniform', activation = 'sigmoid'))\n",
        "\n",
        "classifier.compile(optimizer = 'Adamax', loss = 'binary_crossentropy', metrics = ['accuracy'])\n",
        "model_history=classifier.fit(X_train, y_train,validation_split=0.33, batch_size = 10, epochs = 100)"
      ],
      "metadata": {
        "colab": {
          "base_uri": "https://localhost:8080/"
        },
        "id": "qC6mvsciobPu",
        "outputId": "bb8400de-c952-4c8e-8631-3d4b942e537d"
      },
      "execution_count": 13,
      "outputs": [
        {
          "output_type": "stream",
          "name": "stdout",
          "text": [
            "Epoch 1/100\n",
            "536/536 [==============================] - 2s 2ms/step - loss: 0.6166 - accuracy: 0.7695 - val_loss: 0.5650 - val_accuracy: 0.7955\n",
            "Epoch 2/100\n",
            "536/536 [==============================] - 1s 2ms/step - loss: 0.5456 - accuracy: 0.7962 - val_loss: 0.5278 - val_accuracy: 0.7955\n",
            "Epoch 3/100\n",
            "536/536 [==============================] - 1s 2ms/step - loss: 0.5188 - accuracy: 0.7962 - val_loss: 0.5106 - val_accuracy: 0.7955\n",
            "Epoch 4/100\n",
            "536/536 [==============================] - 1s 2ms/step - loss: 0.5037 - accuracy: 0.7962 - val_loss: 0.4993 - val_accuracy: 0.7955\n",
            "Epoch 5/100\n",
            "536/536 [==============================] - 1s 2ms/step - loss: 0.4922 - accuracy: 0.7962 - val_loss: 0.4897 - val_accuracy: 0.7955\n",
            "Epoch 6/100\n",
            "536/536 [==============================] - 1s 2ms/step - loss: 0.4816 - accuracy: 0.7962 - val_loss: 0.4805 - val_accuracy: 0.7955\n",
            "Epoch 7/100\n",
            "536/536 [==============================] - 1s 2ms/step - loss: 0.4714 - accuracy: 0.7962 - val_loss: 0.4716 - val_accuracy: 0.7955\n",
            "Epoch 8/100\n",
            "536/536 [==============================] - 1s 2ms/step - loss: 0.4615 - accuracy: 0.7962 - val_loss: 0.4632 - val_accuracy: 0.7955\n",
            "Epoch 9/100\n",
            "536/536 [==============================] - 1s 2ms/step - loss: 0.4520 - accuracy: 0.7964 - val_loss: 0.4551 - val_accuracy: 0.7963\n",
            "Epoch 10/100\n",
            "536/536 [==============================] - 1s 2ms/step - loss: 0.4434 - accuracy: 0.7974 - val_loss: 0.4480 - val_accuracy: 0.7967\n",
            "Epoch 11/100\n",
            "536/536 [==============================] - 1s 2ms/step - loss: 0.4360 - accuracy: 0.7996 - val_loss: 0.4417 - val_accuracy: 0.7982\n",
            "Epoch 12/100\n",
            "536/536 [==============================] - 1s 2ms/step - loss: 0.4286 - accuracy: 0.8029 - val_loss: 0.4353 - val_accuracy: 0.8027\n",
            "Epoch 13/100\n",
            "536/536 [==============================] - 1s 2ms/step - loss: 0.4214 - accuracy: 0.8076 - val_loss: 0.4290 - val_accuracy: 0.8054\n",
            "Epoch 14/100\n",
            "536/536 [==============================] - 1s 2ms/step - loss: 0.4145 - accuracy: 0.8113 - val_loss: 0.4232 - val_accuracy: 0.8073\n",
            "Epoch 15/100\n",
            "536/536 [==============================] - 1s 2ms/step - loss: 0.4085 - accuracy: 0.8143 - val_loss: 0.4179 - val_accuracy: 0.8088\n",
            "Epoch 16/100\n",
            "536/536 [==============================] - 1s 2ms/step - loss: 0.4025 - accuracy: 0.8210 - val_loss: 0.4131 - val_accuracy: 0.8183\n",
            "Epoch 17/100\n",
            "536/536 [==============================] - 1s 2ms/step - loss: 0.3969 - accuracy: 0.8317 - val_loss: 0.4085 - val_accuracy: 0.8228\n",
            "Epoch 18/100\n",
            "536/536 [==============================] - 1s 2ms/step - loss: 0.3919 - accuracy: 0.8369 - val_loss: 0.4044 - val_accuracy: 0.8228\n",
            "Epoch 19/100\n",
            "536/536 [==============================] - 1s 2ms/step - loss: 0.3874 - accuracy: 0.8384 - val_loss: 0.4007 - val_accuracy: 0.8285\n",
            "Epoch 20/100\n",
            "536/536 [==============================] - 1s 2ms/step - loss: 0.3833 - accuracy: 0.8414 - val_loss: 0.3974 - val_accuracy: 0.8296\n",
            "Epoch 21/100\n",
            "536/536 [==============================] - 1s 2ms/step - loss: 0.3795 - accuracy: 0.8438 - val_loss: 0.3943 - val_accuracy: 0.8285\n",
            "Epoch 22/100\n",
            "536/536 [==============================] - 1s 2ms/step - loss: 0.3760 - accuracy: 0.8459 - val_loss: 0.3911 - val_accuracy: 0.8300\n",
            "Epoch 23/100\n",
            "536/536 [==============================] - 1s 2ms/step - loss: 0.3726 - accuracy: 0.8466 - val_loss: 0.3885 - val_accuracy: 0.8338\n",
            "Epoch 24/100\n",
            "536/536 [==============================] - 1s 2ms/step - loss: 0.3698 - accuracy: 0.8492 - val_loss: 0.3865 - val_accuracy: 0.8345\n",
            "Epoch 25/100\n",
            "536/536 [==============================] - 1s 2ms/step - loss: 0.3672 - accuracy: 0.8500 - val_loss: 0.3842 - val_accuracy: 0.8360\n",
            "Epoch 26/100\n",
            "536/536 [==============================] - 1s 2ms/step - loss: 0.3649 - accuracy: 0.8487 - val_loss: 0.3823 - val_accuracy: 0.8383\n",
            "Epoch 27/100\n",
            "536/536 [==============================] - 1s 2ms/step - loss: 0.3627 - accuracy: 0.8500 - val_loss: 0.3805 - val_accuracy: 0.8402\n",
            "Epoch 28/100\n",
            "536/536 [==============================] - 1s 2ms/step - loss: 0.3607 - accuracy: 0.8496 - val_loss: 0.3790 - val_accuracy: 0.8402\n",
            "Epoch 29/100\n",
            "536/536 [==============================] - 1s 2ms/step - loss: 0.3590 - accuracy: 0.8503 - val_loss: 0.3775 - val_accuracy: 0.8417\n",
            "Epoch 30/100\n",
            "536/536 [==============================] - 1s 2ms/step - loss: 0.3576 - accuracy: 0.8522 - val_loss: 0.3762 - val_accuracy: 0.8417\n",
            "Epoch 31/100\n",
            "536/536 [==============================] - 1s 2ms/step - loss: 0.3563 - accuracy: 0.8522 - val_loss: 0.3751 - val_accuracy: 0.8425\n",
            "Epoch 32/100\n",
            "536/536 [==============================] - 1s 2ms/step - loss: 0.3551 - accuracy: 0.8522 - val_loss: 0.3741 - val_accuracy: 0.8429\n",
            "Epoch 33/100\n",
            "536/536 [==============================] - 1s 2ms/step - loss: 0.3540 - accuracy: 0.8520 - val_loss: 0.3731 - val_accuracy: 0.8421\n",
            "Epoch 34/100\n",
            "536/536 [==============================] - 1s 2ms/step - loss: 0.3530 - accuracy: 0.8530 - val_loss: 0.3725 - val_accuracy: 0.8429\n",
            "Epoch 35/100\n",
            "536/536 [==============================] - 1s 2ms/step - loss: 0.3523 - accuracy: 0.8531 - val_loss: 0.3719 - val_accuracy: 0.8436\n",
            "Epoch 36/100\n",
            "536/536 [==============================] - 1s 2ms/step - loss: 0.3514 - accuracy: 0.8552 - val_loss: 0.3712 - val_accuracy: 0.8429\n",
            "Epoch 37/100\n",
            "536/536 [==============================] - 1s 2ms/step - loss: 0.3507 - accuracy: 0.8541 - val_loss: 0.3707 - val_accuracy: 0.8444\n",
            "Epoch 38/100\n",
            "536/536 [==============================] - 1s 2ms/step - loss: 0.3501 - accuracy: 0.8554 - val_loss: 0.3703 - val_accuracy: 0.8463\n",
            "Epoch 39/100\n",
            "536/536 [==============================] - 1s 2ms/step - loss: 0.3495 - accuracy: 0.8552 - val_loss: 0.3696 - val_accuracy: 0.8455\n",
            "Epoch 40/100\n",
            "536/536 [==============================] - 1s 2ms/step - loss: 0.3489 - accuracy: 0.8559 - val_loss: 0.3691 - val_accuracy: 0.8451\n",
            "Epoch 41/100\n",
            "536/536 [==============================] - 1s 2ms/step - loss: 0.3481 - accuracy: 0.8558 - val_loss: 0.3688 - val_accuracy: 0.8470\n",
            "Epoch 42/100\n",
            "536/536 [==============================] - 1s 2ms/step - loss: 0.3478 - accuracy: 0.8572 - val_loss: 0.3684 - val_accuracy: 0.8478\n",
            "Epoch 43/100\n",
            "536/536 [==============================] - 1s 2ms/step - loss: 0.3471 - accuracy: 0.8571 - val_loss: 0.3681 - val_accuracy: 0.8474\n",
            "Epoch 44/100\n",
            "536/536 [==============================] - 1s 2ms/step - loss: 0.3467 - accuracy: 0.8578 - val_loss: 0.3675 - val_accuracy: 0.8497\n",
            "Epoch 45/100\n",
            "536/536 [==============================] - 1s 2ms/step - loss: 0.3461 - accuracy: 0.8584 - val_loss: 0.3672 - val_accuracy: 0.8482\n",
            "Epoch 46/100\n",
            "536/536 [==============================] - 1s 2ms/step - loss: 0.3455 - accuracy: 0.8600 - val_loss: 0.3670 - val_accuracy: 0.8485\n",
            "Epoch 47/100\n",
            "536/536 [==============================] - 1s 2ms/step - loss: 0.3451 - accuracy: 0.8589 - val_loss: 0.3667 - val_accuracy: 0.8485\n",
            "Epoch 48/100\n",
            "536/536 [==============================] - 1s 2ms/step - loss: 0.3448 - accuracy: 0.8574 - val_loss: 0.3663 - val_accuracy: 0.8482\n",
            "Epoch 49/100\n",
            "536/536 [==============================] - 1s 2ms/step - loss: 0.3443 - accuracy: 0.8584 - val_loss: 0.3660 - val_accuracy: 0.8489\n",
            "Epoch 50/100\n",
            "536/536 [==============================] - 1s 2ms/step - loss: 0.3439 - accuracy: 0.8586 - val_loss: 0.3656 - val_accuracy: 0.8493\n",
            "Epoch 51/100\n",
            "536/536 [==============================] - 1s 2ms/step - loss: 0.3436 - accuracy: 0.8578 - val_loss: 0.3652 - val_accuracy: 0.8482\n",
            "Epoch 52/100\n",
            "536/536 [==============================] - 1s 2ms/step - loss: 0.3431 - accuracy: 0.8589 - val_loss: 0.3650 - val_accuracy: 0.8478\n",
            "Epoch 53/100\n",
            "536/536 [==============================] - 1s 2ms/step - loss: 0.3429 - accuracy: 0.8593 - val_loss: 0.3648 - val_accuracy: 0.8474\n",
            "Epoch 54/100\n",
            "536/536 [==============================] - 1s 2ms/step - loss: 0.3424 - accuracy: 0.8600 - val_loss: 0.3645 - val_accuracy: 0.8485\n",
            "Epoch 55/100\n",
            "536/536 [==============================] - 1s 2ms/step - loss: 0.3421 - accuracy: 0.8595 - val_loss: 0.3645 - val_accuracy: 0.8470\n",
            "Epoch 56/100\n",
            "536/536 [==============================] - 1s 2ms/step - loss: 0.3418 - accuracy: 0.8595 - val_loss: 0.3644 - val_accuracy: 0.8482\n",
            "Epoch 57/100\n",
            "536/536 [==============================] - 1s 2ms/step - loss: 0.3415 - accuracy: 0.8602 - val_loss: 0.3641 - val_accuracy: 0.8485\n",
            "Epoch 58/100\n",
            "536/536 [==============================] - 1s 2ms/step - loss: 0.3411 - accuracy: 0.8595 - val_loss: 0.3636 - val_accuracy: 0.8474\n",
            "Epoch 59/100\n",
            "536/536 [==============================] - 1s 2ms/step - loss: 0.3408 - accuracy: 0.8619 - val_loss: 0.3636 - val_accuracy: 0.8482\n",
            "Epoch 60/100\n",
            "536/536 [==============================] - 1s 2ms/step - loss: 0.3405 - accuracy: 0.8606 - val_loss: 0.3635 - val_accuracy: 0.8485\n",
            "Epoch 61/100\n",
            "536/536 [==============================] - 1s 2ms/step - loss: 0.3402 - accuracy: 0.8614 - val_loss: 0.3636 - val_accuracy: 0.8493\n",
            "Epoch 62/100\n",
            "536/536 [==============================] - 1s 2ms/step - loss: 0.3400 - accuracy: 0.8608 - val_loss: 0.3630 - val_accuracy: 0.8497\n",
            "Epoch 63/100\n",
            "536/536 [==============================] - 1s 2ms/step - loss: 0.3397 - accuracy: 0.8615 - val_loss: 0.3630 - val_accuracy: 0.8493\n",
            "Epoch 64/100\n",
            "536/536 [==============================] - 1s 2ms/step - loss: 0.3393 - accuracy: 0.8614 - val_loss: 0.3629 - val_accuracy: 0.8485\n",
            "Epoch 65/100\n",
            "536/536 [==============================] - 1s 2ms/step - loss: 0.3393 - accuracy: 0.8606 - val_loss: 0.3628 - val_accuracy: 0.8501\n",
            "Epoch 66/100\n",
            "536/536 [==============================] - 1s 2ms/step - loss: 0.3389 - accuracy: 0.8615 - val_loss: 0.3623 - val_accuracy: 0.8482\n",
            "Epoch 67/100\n",
            "536/536 [==============================] - 1s 2ms/step - loss: 0.3386 - accuracy: 0.8617 - val_loss: 0.3622 - val_accuracy: 0.8478\n",
            "Epoch 68/100\n",
            "536/536 [==============================] - 1s 2ms/step - loss: 0.3385 - accuracy: 0.8623 - val_loss: 0.3622 - val_accuracy: 0.8497\n",
            "Epoch 69/100\n",
            "536/536 [==============================] - 1s 2ms/step - loss: 0.3382 - accuracy: 0.8621 - val_loss: 0.3621 - val_accuracy: 0.8482\n",
            "Epoch 70/100\n",
            "536/536 [==============================] - 1s 2ms/step - loss: 0.3380 - accuracy: 0.8597 - val_loss: 0.3619 - val_accuracy: 0.8493\n",
            "Epoch 71/100\n",
            "536/536 [==============================] - 1s 2ms/step - loss: 0.3378 - accuracy: 0.8619 - val_loss: 0.3622 - val_accuracy: 0.8489\n",
            "Epoch 72/100\n",
            "536/536 [==============================] - 1s 2ms/step - loss: 0.3376 - accuracy: 0.8623 - val_loss: 0.3617 - val_accuracy: 0.8501\n",
            "Epoch 73/100\n",
            "536/536 [==============================] - 1s 2ms/step - loss: 0.3376 - accuracy: 0.8619 - val_loss: 0.3614 - val_accuracy: 0.8504\n",
            "Epoch 74/100\n",
            "536/536 [==============================] - 1s 2ms/step - loss: 0.3373 - accuracy: 0.8623 - val_loss: 0.3613 - val_accuracy: 0.8501\n",
            "Epoch 75/100\n",
            "536/536 [==============================] - 1s 2ms/step - loss: 0.3370 - accuracy: 0.8608 - val_loss: 0.3609 - val_accuracy: 0.8504\n",
            "Epoch 76/100\n",
            "536/536 [==============================] - 1s 2ms/step - loss: 0.3367 - accuracy: 0.8623 - val_loss: 0.3612 - val_accuracy: 0.8497\n",
            "Epoch 77/100\n",
            "536/536 [==============================] - 1s 2ms/step - loss: 0.3366 - accuracy: 0.8628 - val_loss: 0.3610 - val_accuracy: 0.8508\n",
            "Epoch 78/100\n",
            "536/536 [==============================] - 1s 2ms/step - loss: 0.3363 - accuracy: 0.8630 - val_loss: 0.3610 - val_accuracy: 0.8516\n",
            "Epoch 79/100\n",
            "536/536 [==============================] - 1s 2ms/step - loss: 0.3361 - accuracy: 0.8630 - val_loss: 0.3607 - val_accuracy: 0.8508\n",
            "Epoch 80/100\n",
            "536/536 [==============================] - 1s 2ms/step - loss: 0.3359 - accuracy: 0.8621 - val_loss: 0.3607 - val_accuracy: 0.8508\n",
            "Epoch 81/100\n",
            "536/536 [==============================] - 1s 2ms/step - loss: 0.3358 - accuracy: 0.8640 - val_loss: 0.3607 - val_accuracy: 0.8508\n",
            "Epoch 82/100\n",
            "536/536 [==============================] - 1s 2ms/step - loss: 0.3356 - accuracy: 0.8636 - val_loss: 0.3605 - val_accuracy: 0.8519\n",
            "Epoch 83/100\n",
            "536/536 [==============================] - 1s 2ms/step - loss: 0.3354 - accuracy: 0.8638 - val_loss: 0.3601 - val_accuracy: 0.8519\n",
            "Epoch 84/100\n",
            "536/536 [==============================] - 1s 2ms/step - loss: 0.3352 - accuracy: 0.8617 - val_loss: 0.3602 - val_accuracy: 0.8516\n",
            "Epoch 85/100\n",
            "536/536 [==============================] - 1s 2ms/step - loss: 0.3350 - accuracy: 0.8625 - val_loss: 0.3599 - val_accuracy: 0.8516\n",
            "Epoch 86/100\n",
            "536/536 [==============================] - 1s 2ms/step - loss: 0.3349 - accuracy: 0.8619 - val_loss: 0.3600 - val_accuracy: 0.8519\n",
            "Epoch 87/100\n",
            "536/536 [==============================] - 1s 2ms/step - loss: 0.3347 - accuracy: 0.8627 - val_loss: 0.3602 - val_accuracy: 0.8512\n",
            "Epoch 88/100\n",
            "536/536 [==============================] - 1s 2ms/step - loss: 0.3346 - accuracy: 0.8640 - val_loss: 0.3600 - val_accuracy: 0.8519\n",
            "Epoch 89/100\n",
            "536/536 [==============================] - 1s 2ms/step - loss: 0.3344 - accuracy: 0.8632 - val_loss: 0.3597 - val_accuracy: 0.8512\n",
            "Epoch 90/100\n",
            "536/536 [==============================] - 1s 2ms/step - loss: 0.3339 - accuracy: 0.8642 - val_loss: 0.3606 - val_accuracy: 0.8497\n",
            "Epoch 91/100\n",
            "536/536 [==============================] - 1s 2ms/step - loss: 0.3342 - accuracy: 0.8628 - val_loss: 0.3596 - val_accuracy: 0.8523\n",
            "Epoch 92/100\n",
            "536/536 [==============================] - 1s 2ms/step - loss: 0.3339 - accuracy: 0.8632 - val_loss: 0.3597 - val_accuracy: 0.8516\n",
            "Epoch 93/100\n",
            "536/536 [==============================] - 1s 2ms/step - loss: 0.3338 - accuracy: 0.8621 - val_loss: 0.3597 - val_accuracy: 0.8523\n",
            "Epoch 94/100\n",
            "536/536 [==============================] - 1s 2ms/step - loss: 0.3335 - accuracy: 0.8623 - val_loss: 0.3601 - val_accuracy: 0.8504\n",
            "Epoch 95/100\n",
            "536/536 [==============================] - 1s 2ms/step - loss: 0.3332 - accuracy: 0.8630 - val_loss: 0.3594 - val_accuracy: 0.8508\n",
            "Epoch 96/100\n",
            "536/536 [==============================] - 1s 2ms/step - loss: 0.3333 - accuracy: 0.8640 - val_loss: 0.3593 - val_accuracy: 0.8508\n",
            "Epoch 97/100\n",
            "536/536 [==============================] - 1s 2ms/step - loss: 0.3331 - accuracy: 0.8625 - val_loss: 0.3591 - val_accuracy: 0.8508\n",
            "Epoch 98/100\n",
            "536/536 [==============================] - 1s 2ms/step - loss: 0.3329 - accuracy: 0.8628 - val_loss: 0.3593 - val_accuracy: 0.8516\n",
            "Epoch 99/100\n",
            "536/536 [==============================] - 1s 2ms/step - loss: 0.3327 - accuracy: 0.8623 - val_loss: 0.3594 - val_accuracy: 0.8512\n",
            "Epoch 100/100\n",
            "536/536 [==============================] - 1s 2ms/step - loss: 0.3327 - accuracy: 0.8625 - val_loss: 0.3591 - val_accuracy: 0.8497\n"
          ]
        }
      ]
    },
    {
      "cell_type": "code",
      "source": [
        "print(model_history.history.keys())"
      ],
      "metadata": {
        "colab": {
          "base_uri": "https://localhost:8080/"
        },
        "id": "VNfgdalGo5p_",
        "outputId": "6e8cdc7b-27fd-4a29-e330-5f7f26288b93"
      },
      "execution_count": 14,
      "outputs": [
        {
          "output_type": "stream",
          "name": "stdout",
          "text": [
            "dict_keys(['loss', 'accuracy', 'val_loss', 'val_accuracy'])\n"
          ]
        }
      ]
    },
    {
      "cell_type": "code",
      "source": [
        "plt.plot(model_history.history['loss'])\n",
        "plt.plot(model_history.history['val_loss'])\n",
        "plt.title('model loss')\n",
        "plt.ylabel('loss')\n",
        "plt.xlabel('epoch')\n",
        "plt.legend(['train', 'test'], loc='upper left')\n",
        "plt.show()"
      ],
      "metadata": {
        "colab": {
          "base_uri": "https://localhost:8080/",
          "height": 295
        },
        "id": "_p1BlWFSpgvJ",
        "outputId": "388c9076-8ea0-49a2-8823-8983a5bea1ba"
      },
      "execution_count": 20,
      "outputs": [
        {
          "output_type": "display_data",
          "data": {
            "image/png": "[encoded data removed]",
            "text/plain": [
              "<Figure size 432x288 with 1 Axes>"
            ]
          },
          "metadata": {
            "needs_background": "light"
          }
        }
      ]
    },
    {
      "cell_type": "code",
      "source": [
        "y_pred = classifier.predict(X_test)\n",
        "y_pred = (y_pred > 0.5)\n",
        "\n",
        "from sklearn.metrics import confusion_matrix\n",
        "cm = confusion_matrix(y_test, y_pred)\n",
        "print(cm)"
      ],
      "metadata": {
        "colab": {
          "base_uri": "https://localhost:8080/"
        },
        "id": "f02SugJTo6x7",
        "outputId": "0df5144b-66a9-4e5d-abfa-f019d61cf2f9"
      },
      "execution_count": 18,
      "outputs": [
        {
          "output_type": "stream",
          "name": "stdout",
          "text": [
            "[[1519   76]\n",
            " [ 212  193]]\n"
          ]
        }
      ]
    },
    {
      "cell_type": "code",
      "source": [
        "from sklearn.metrics import accuracy_score\n",
        "score=accuracy_score(y_pred,y_test)\n",
        "print(score)"
      ],
      "metadata": {
        "colab": {
          "base_uri": "https://localhost:8080/"
        },
        "id": "cXwCi-tBrNTO",
        "outputId": "4739c106-2067-43c5-9462-8baab87409a2"
      },
      "execution_count": 19,
      "outputs": [
        {
          "output_type": "stream",
          "name": "stdout",
          "text": [
            "0.856\n"
          ]
        }
      ]
    }
  ]
}